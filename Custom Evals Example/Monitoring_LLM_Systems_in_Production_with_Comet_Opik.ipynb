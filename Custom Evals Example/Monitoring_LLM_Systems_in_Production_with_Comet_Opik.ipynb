{
  "nbformat": 4,
  "nbformat_minor": 0,
  "metadata": {
    "colab": {
      "provenance": [],
      "include_colab_link": true
    },
    "kernelspec": {
      "name": "python3",
      "display_name": "Python 3"
    },
    "language_info": {
      "name": "python"
    }
  },
  "cells": [
    {
      "cell_type": "markdown",
      "metadata": {
        "id": "view-in-github",
        "colab_type": "text"
      },
      "source": [
        "<a href=\"https://colab.research.google.com/github/statisticianinstilettos/Hackathon-Assets/blob/main/Custom%20Evals%20Example/Monitoring_LLM_Systems_in_Production_with_Comet_Opik.ipynb\" target=\"_parent\"><img src=\"https://colab.research.google.com/assets/colab-badge.svg\" alt=\"Open In Colab\"/></a>"
      ]
    },
    {
      "cell_type": "markdown",
      "source": [
        "#LLM Observability and Monitoring Tutorial with my Recipe Generator App\n",
        "\n",
        "This example personal project is designed to practice establishing proper montioring best practices for a live LLM app. In this tutorial, I'll walk you through how to build a very simple yet powerful LLM app, and show how to design the monitoring metrics and dashboards to facilitate detecting and root causing issues that might arise in production.\n"
      ],
      "metadata": {
        "id": "4nBkLEnK2yT1"
      }
    },
    {
      "cell_type": "markdown",
      "source": [
        "## Preparing our environment\n",
        "\n",
        "First, we will install the required libraries and set up our OpenAI API keys. Check out Opik config parameters here: https://www.comet.com/docs/opik/tracing/sdk_configuration"
      ],
      "metadata": {
        "id": "2eWfFnAJ4iRx"
      }
    },
    {
      "cell_type": "code",
      "source": [
        "%pip install -U opik openai --quiet"
      ],
      "metadata": {
        "id": "m080q6EML_Zr",
        "colab": {
          "base_uri": "https://localhost:8080/"
        },
        "outputId": "bafeef77-4fa2-497e-c69e-59e03c2884be"
      },
      "execution_count": null,
      "outputs": [
        {
          "output_type": "stream",
          "name": "stdout",
          "text": [
            "\u001b[2K     \u001b[90m━━━━━━━━━━━━━━━━━━━━━━━━━━━━━━━━━━━━━━━\u001b[0m \u001b[32m150.2/150.2 kB\u001b[0m \u001b[31m6.3 MB/s\u001b[0m eta \u001b[36m0:00:00\u001b[0m\n",
            "\u001b[2K   \u001b[90m━━━━━━━━━━━━━━━━━━━━━━━━━━━━━━━━━━━━━━━━\u001b[0m \u001b[32m589.0/589.0 kB\u001b[0m \u001b[31m16.1 MB/s\u001b[0m eta \u001b[36m0:00:00\u001b[0m\n",
            "\u001b[2K   \u001b[90m━━━━━━━━━━━━━━━━━━━━━━━━━━━━━━━━━━━━━━━━\u001b[0m \u001b[32m735.8/735.8 kB\u001b[0m \u001b[31m35.0 MB/s\u001b[0m eta \u001b[36m0:00:00\u001b[0m\n",
            "\u001b[2K   \u001b[90m━━━━━━━━━━━━━━━━━━━━━━━━━━━━━━━━━━━━━━━━\u001b[0m \u001b[32m69.1/69.1 kB\u001b[0m \u001b[31m3.5 MB/s\u001b[0m eta \u001b[36m0:00:00\u001b[0m\n",
            "\u001b[2K   \u001b[90m━━━━━━━━━━━━━━━━━━━━━━━━━━━━━━━━━━━━━━━━\u001b[0m \u001b[32m45.2/45.2 kB\u001b[0m \u001b[31m2.2 MB/s\u001b[0m eta \u001b[36m0:00:00\u001b[0m\n",
            "\u001b[2K   \u001b[90m━━━━━━━━━━━━━━━━━━━━━━━━━━━━━━━━━━━━━━━━\u001b[0m \u001b[32m3.1/3.1 MB\u001b[0m \u001b[31m76.0 MB/s\u001b[0m eta \u001b[36m0:00:00\u001b[0m\n",
            "\u001b[2K   \u001b[90m━━━━━━━━━━━━━━━━━━━━━━━━━━━━━━━━━━━━━━━━\u001b[0m \u001b[32m8.4/8.4 MB\u001b[0m \u001b[31m76.4 MB/s\u001b[0m eta \u001b[36m0:00:00\u001b[0m\n",
            "\u001b[2K   \u001b[90m━━━━━━━━━━━━━━━━━━━━━━━━━━━━━━━━━━━━━━━━\u001b[0m \u001b[32m65.6/65.6 kB\u001b[0m \u001b[31m4.2 MB/s\u001b[0m eta \u001b[36m0:00:00\u001b[0m\n",
            "\u001b[?25h"
          ]
        }
      ]
    },
    {
      "cell_type": "code",
      "source": [
        "import opik\n",
        "\n",
        "opik.configure(use_local=False)"
      ],
      "metadata": {
        "id": "7uIKdRLv5ueg",
        "colab": {
          "base_uri": "https://localhost:8080/"
        },
        "outputId": "2f244c52-9f32-4923-9a87-9d4531aa171e"
      },
      "execution_count": null,
      "outputs": [
        {
          "output_type": "stream",
          "name": "stderr",
          "text": [
            "OPIK: Your Opik API key is available in your account settings, can be found at https://www.comet.com/api/my/settings/ for Opik cloud\n"
          ]
        },
        {
          "name": "stdout",
          "output_type": "stream",
          "text": [
            "Please enter your Opik API key:··········\n",
            "Do you want to use \"statisticianinstilettos\" workspace? (Y/n)Y\n"
          ]
        },
        {
          "output_type": "stream",
          "name": "stderr",
          "text": [
            "OPIK: Configuration saved to file: /root/.opik.config\n"
          ]
        }
      ]
    },
    {
      "cell_type": "code",
      "source": [
        "import os\n",
        "import getpass\n",
        "\n",
        "if \"OPENAI_API_KEY\" not in os.environ:\n",
        "    os.environ[\"OPENAI_API_KEY\"] = getpass.getpass(\"Enter your OpenAI API key: \")"
      ],
      "metadata": {
        "colab": {
          "base_uri": "https://localhost:8080/"
        },
        "id": "5AjvhiY_4hug",
        "outputId": "1348d526-6fd1-45f2-b420-9f5a30efbeea"
      },
      "execution_count": null,
      "outputs": [
        {
          "name": "stdout",
          "output_type": "stream",
          "text": [
            "Enter your OpenAI API key: ··········\n"
          ]
        }
      ]
    },
    {
      "cell_type": "code",
      "source": [
        "from opik import track, opik_context, Attachment\n",
        "from opik.integrations.openai import track_openai\n",
        "from openai import OpenAI\n",
        "\n",
        "os.environ[\"OPIK_PROJECT_NAME\"] = \"recipe-generator\"\n",
        "\n",
        "client = OpenAI()\n",
        "openai_client = track_openai(client)"
      ],
      "metadata": {
        "id": "sXjEXs245jH2"
      },
      "execution_count": null,
      "outputs": []
    },
    {
      "cell_type": "markdown",
      "source": [
        "# Building a simple recipe generator\n",
        "\n",
        "I'm using the OpenAI API to generate a response, and Opik to track and evaluate it."
      ],
      "metadata": {
        "id": "43lvGsyuhd18"
      }
    },
    {
      "cell_type": "code",
      "source": [
        "#This function performs the API call to openAI to request the recipe based on the prompt. Simply enter the dish name!\n",
        "#Because I'm using a function, I'm using the Opik @track decorator to log my traces.\n",
        "\n",
        "@opik.track()\n",
        "def generate_recipe(dish_name):\n",
        "\n",
        "    prompt = f\"\"\"\n",
        "    You are a world-class home chef and recipe developer. Generate a step-by-step recipe for {dish_name}.\n",
        "    Include a list of ingredients with quantities, clear cooking instructions, preparation time, cooking time, and serving size.\n",
        "    If applicable, provide useful tips, optional variations, or suggestions for substitutes.\n",
        "    Keep the recipe straightforward and easy to follow for a novice at home cook.\n",
        "    \"\"\"\n",
        "\n",
        "    # Request recipe generation from OpenAI's completions model\n",
        "    response = openai_client.chat.completions.create(\n",
        "        model=\"gpt-3.5-turbo\",\n",
        "        messages=[\n",
        "            {\"role\": \"system\", \"content\": \"You are a world-class chef and recipe developer.\"},  # system message\n",
        "            {\"role\": \"user\", \"content\": prompt}  # User's input prompt\n",
        "        ],\n",
        "        max_tokens=500,\n",
        "        temperature=0.7,\n",
        "        n=1\n",
        "    )\n",
        "\n",
        "\n",
        "    return response\n",
        "\n"
      ],
      "metadata": {
        "id": "o-A0UR8nKEuT"
      },
      "execution_count": null,
      "outputs": []
    },
    {
      "cell_type": "code",
      "source": [
        "# Example usage\n",
        "dish_name = \"blt sandwitch\"\n",
        "recipe = generate_recipe(dish_name)\n",
        "\n",
        "\n",
        "#extract just the recipe text and print\n",
        "print(recipe.choices[0].to_dict()['message']['content'])"
      ],
      "metadata": {
        "colab": {
          "base_uri": "https://localhost:8080/"
        },
        "id": "8IGA3UzhLlS5",
        "outputId": "4e5176a6-a09c-4d63-fdf1-44100bb8235a"
      },
      "execution_count": null,
      "outputs": [
        {
          "output_type": "stream",
          "name": "stdout",
          "text": [
            "**BLT Sandwich Recipe**\n",
            "\n",
            "**Ingredients:**\n",
            "- 8 slices of bacon\n",
            "- 2 large tomatoes, thinly sliced\n",
            "- 4 leaves of lettuce\n",
            "- 8 slices of sandwich bread\n",
            "- Mayonnaise\n",
            "- Salt and pepper to taste\n",
            "\n",
            "**Preparation Time:** 10 minutes  \n",
            "**Cooking Time:** 10 minutes  \n",
            "**Serving Size:** 4 sandwiches  \n",
            "\n",
            "**Instructions:**\n",
            "\n",
            "**1. Cook the Bacon:**\n",
            "   - In a large skillet over medium heat, cook the bacon until it is crispy, turning occasionally to ensure even cooking.\n",
            "   - Once the bacon is cooked, transfer it to a plate lined with paper towels to drain excess grease.\n",
            "\n",
            "**2. Toast the Bread:**\n",
            "   - Toast the slices of sandwich bread until they are golden brown and crispy. You can use a toaster or a skillet for this step.\n",
            "\n",
            "**3. Assemble the BLT Sandwich:**\n",
            "   - Spread mayonnaise on one side of each slice of bread.\n",
            "   - Place a leaf of lettuce on four slices of bread.\n",
            "   - Top the lettuce with slices of tomato.\n",
            "   - Season the tomatoes with a pinch of salt and pepper.\n",
            "   - Add 2 slices of bacon on top of the tomatoes on each sandwich.\n",
            "   - Place the remaining slices of bread on top, mayonnaise side down, to complete the sandwiches.\n",
            "\n",
            "**4. Serve and Enjoy:**\n",
            "   - Cut the sandwiches in half diagonally for a classic presentation.\n",
            "   - Serve the BLT sandwiches immediately while the bread is still warm and the bacon is crispy.\n",
            "\n",
            "**Tips:**\n",
            "- Choose ripe, juicy tomatoes for the best flavor in your BLT sandwich.\n",
            "- Crisp up the lettuce by rinsing it in ice water before using it in the sandwich.\n",
            "- You can add avocado slices or a fried egg to your BLT sandwich for extra deliciousness.\n",
            "\n",
            "**Variations:**\n",
            "- Use whole wheat or multigrain bread for a healthier twist on the classic BLT.\n",
            "- Substitute the mayonnaise with aioli or pesto for a different flavor profile.\n",
            "- Experiment with different types of lettuce such as arugula or spinach for a unique twist.\n",
            "\n",
            "Enjoy your homemade BLT sandwiches!\n"
          ]
        }
      ]
    },
    {
      "cell_type": "code",
      "source": [],
      "metadata": {
        "id": "dYlUJ--__Swy"
      },
      "execution_count": null,
      "outputs": []
    }
  ]
}